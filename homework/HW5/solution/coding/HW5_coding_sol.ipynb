{
  "cells": [
    {
      "cell_type": "markdown",
      "id": "6280b8ea",
      "metadata": {
        "id": "6280b8ea"
      },
      "source": [
        "# HW5 Coding Part"
      ]
    },
    {
      "cell_type": "code",
      "execution_count": 1,
      "id": "dc0691f9",
      "metadata": {
        "id": "dc0691f9"
      },
      "outputs": [],
      "source": [
        "import torch\n",
        "import torch.nn as nn\n",
        "import torch.nn.functional as F\n",
        "import torch.optim as optim\n",
        "import torchvision\n",
        "from torch.utils.data import TensorDataset, DataLoader, random_split\n",
        "import sklearn\n",
        "import numpy as np\n",
        "import matplotlib.pyplot as plt\n",
        "import pandas as pd\n",
        "from tqdm import tqdm"
      ]
    },
    {
      "cell_type": "markdown",
      "id": "ba1a3322",
      "metadata": {
        "id": "ba1a3322"
      },
      "source": [
        "## Problem 0: Pytorch Tutorial (12 points)"
      ]
    },
    {
      "cell_type": "markdown",
      "id": "c3a5eb06",
      "metadata": {
        "id": "c3a5eb06"
      },
      "source": [
        "### Tensors\n",
        "Tensors can be created from numpy data or by using pytorch directly."
      ]
    },
    {
      "cell_type": "code",
      "execution_count": 2,
      "id": "a0be8dec",
      "metadata": {
        "colab": {
          "base_uri": "https://localhost:8080/"
        },
        "id": "a0be8dec",
        "outputId": "c715c1be-bf46-4410-80e7-0a0829917de4"
      },
      "outputs": [
        {
          "name": "stdout",
          "output_type": "stream",
          "text": [
            "Tensor from np: \n",
            " tensor([[1, 2],\n",
            "        [3, 4]]) \n",
            "\n",
            "Rand Tensor: \n",
            " tensor([[0.2064, 0.2296, 0.4047],\n",
            "        [0.0165, 0.9449, 0.9130]]) \n",
            "\n",
            "Rand Numpy Array: \n",
            " [[0.20640677 0.2295981  0.4047187 ]\n",
            " [0.0165236  0.9449377  0.913017  ]] \n",
            "\n"
          ]
        }
      ],
      "source": [
        "x_data = [[1, 2], [3, 4]]\n",
        "x = torch.tensor(x_data)\n",
        "\n",
        "np_array = np.array(x_data)\n",
        "x_np = torch.from_numpy(np_array)\n",
        "\n",
        "shape = (2,3)\n",
        "rand_tensor = torch.rand(shape)\n",
        "np_rand_array = rand_tensor.numpy()\n",
        "\n",
        "print(f\"Tensor from np: \\n {x_np} \\n\")\n",
        "print(f\"Rand Tensor: \\n {rand_tensor} \\n\")\n",
        "print(f\"Rand Numpy Array: \\n {np_rand_array} \\n\")"
      ]
    },
    {
      "cell_type": "markdown",
      "id": "447a6172",
      "metadata": {
        "id": "447a6172"
      },
      "source": [
        "#### 1) Tensor squeezing, unsqueezing and viewing (3 points)\n",
        "\n",
        "Tensor squeezing, unsqueezing and viewing are important methods to change the dimension of a Tensor, and the corresponding functions are [torch.squeeze](https://pytorch.org/docs/stable/torch.html#torch.squeeze), [torch.unsqueeze](https://pytorch.org/docs/stable/torch.html#torch.unsqueeze) and [torch.Tensor.view](https://pytorch.org/docs/stable/tensors.html#torch.Tensor.view). Please read the documents of the functions, and finish the following practice."
      ]
    },
    {
      "cell_type": "code",
      "execution_count": 3,
      "id": "1c17808f",
      "metadata": {
        "colab": {
          "base_uri": "https://localhost:8080/"
        },
        "id": "1c17808f",
        "outputId": "66945ec3-023a-45bb-f8c4-14d252c919da"
      },
      "outputs": [
        {
          "name": "stdout",
          "output_type": "stream",
          "text": [
            "Original shape: torch.Size([3, 2])\n",
            "torch.Size([3, 1, 2, 1])\n",
            "torch.Size([3, 2])\n",
            "After view: torch.Size([6])\n"
          ]
        }
      ],
      "source": [
        "# x is a tensor with size being (3, 2)\n",
        "x = torch.Tensor([[1, 2],[3, 4],[5, 6]])\n",
        "print(\"Original shape:\", x.shape)  # Should be (3, 2)\n",
        "\n",
        "############## YOUR CODE HERE ##############\n",
        "# Add two new dimensions to x by using the function torch.unsqueeze(input, dim) -> Tensor, so that the size of x becomes (3, 1, 2, 1).\n",
        "# Hint: Add dimension at position 1 (second dimension)\n",
        "# Hint: Add dimension at position 3 (fourth dimension)\n",
        "x = torch.unsqueeze(x, 1)\n",
        "x = torch.unsqueeze(x, 3)\n",
        "############## END YOUR CODE ##############\n",
        "print(x.shape) # Should be torch.Size([3, 1, 2, 1])\n",
        "\n",
        "############## YOUR CODE HERE ##############\n",
        "# Remove the two dimensions just added by using the function torch.squeeze(input, dim) -> Tensor, and change the size of x back to (3, 2).\n",
        "# Hint: Remove the dimension at position 3\n",
        "# Hint: Remove the dimension at position 1\n",
        "x = torch.squeeze(x, 3)\n",
        "x = torch.squeeze(x, 1)\n",
        "############## END YOUR CODE ##############\n",
        "print(x.shape) # Should be torch.Size([3, 2])\n",
        "\n",
        "############## YOUR CODE HERE ##############\n",
        "# x is now a two-dimensional tensor, or in other words a matrix. Now use the function torch.Tensor.view(*shape) and change x to a one-dimensional vector with size being (6).\n",
        "x = x.view(6)\n",
        "############## END YOUR CODE ##############\n",
        "print(\"After view:\", x.shape)  # Should be torch.Size([6])"
      ]
    },
    {
      "cell_type": "markdown",
      "id": "5a0d11f5",
      "metadata": {
        "id": "5a0d11f5"
      },
      "source": [
        "### 2) Tensor concatenation and stack (2 points)"
      ]
    },
    {
      "cell_type": "markdown",
      "id": "4c62d5b8",
      "metadata": {
        "id": "4c62d5b8"
      },
      "source": [
        "Tensor concatenation and stack are operations to combine small tensors into big tensors. The corresponding functions are [torch.cat](https://pytorch.org/docs/stable/torch.html#torch.cat) and [torch.stack](https://pytorch.org/docs/stable/torch.html#torch.stack). Please read the documents of the functions, and finish the following practice.\n",
        "\n",
        "**Hints:**<br>\n",
        "1. `torch.stack((obj1, obj2))`: A new dimension is automatically added (dim=0 by default) and the input tensors are then stacked along that dimension.\n",
        "2. `torch.cat((obj1, obj2))`: Dimensions are not added, but are spliced directly over existing dimensions, you should consider this case."
      ]
    },
    {
      "cell_type": "code",
      "execution_count": 4,
      "id": "fbfbb58f",
      "metadata": {
        "colab": {
          "base_uri": "https://localhost:8080/"
        },
        "id": "fbfbb58f",
        "outputId": "c59c496c-179b-494e-ac77-4a5bc39a30f2"
      },
      "outputs": [
        {
          "name": "stdout",
          "output_type": "stream",
          "text": [
            "tensor([[[ 1.,  2.],\n",
            "         [ 3.,  4.],\n",
            "         [ 5.,  6.]],\n",
            "\n",
            "        [[-1., -2.],\n",
            "         [-3., -4.],\n",
            "         [-5., -6.]]])\n",
            "tensor([[[ 1.,  2.],\n",
            "         [ 3.,  4.],\n",
            "         [ 5.,  6.]],\n",
            "\n",
            "        [[-1., -2.],\n",
            "         [-3., -4.],\n",
            "         [-5., -6.]]])\n"
          ]
        }
      ],
      "source": [
        "# x is a tensor with size being (3, 2)\n",
        "x = torch.Tensor([[1, 2], [3, 4], [5, 6]])\n",
        "\n",
        "# y is a tensor with size being (3, 2)\n",
        "y = torch.Tensor([[-1, -2], [-3, -4], [-5, -6]])\n",
        "\n",
        "############## YOUR CODE HERE ##############\n",
        "# Our goal is to generate a tensor z with size as (2, 3, 2), and z[0,:,:] = x, z[1,:,:] = y. Use torch.stack to generate such a z\n",
        "z = torch.stack((x, y))\n",
        "############## END YOUR CODE ##############\n",
        "print(z)\n",
        "\n",
        "############## YOUR CODE HERE ##############\n",
        "# Use torch.cat and torch.unsqueeze to generate z\n",
        "z = torch.cat((torch.unsqueeze(x, 0), torch.unsqueeze(y, 0)))\n",
        "############## END YOUR CODE ##############\n",
        "print(z)\n",
        "\n",
        "# The tow outputs are expected to be tensor([[[ 1.,  2.], [ 3.,  4.], [ 5.,  6.]], [[-1., -2.], [-3., -4.], [-5., -6.]]])"
      ]
    },
    {
      "cell_type": "markdown",
      "id": "e253f2c6",
      "metadata": {
        "id": "e253f2c6"
      },
      "source": [
        "#### 3) Tensor expansion (2 points)"
      ]
    },
    {
      "cell_type": "markdown",
      "id": "0057816c",
      "metadata": {
        "id": "0057816c"
      },
      "source": [
        "Tensor expansion is to expand a tensor into a larger tensor along singleton dimensions. The corresponding functions are [torch.Tensor.expand](https://pytorch.org/docs/stable/tensors.html#torch.Tensor.expand) and [torch.Tensor.expand_as](https://pytorch.org/docs/stable/tensors.html#torch.Tensor.expand_as). Please read the documents of the functions, and finish the following practice."
      ]
    },
    {
      "cell_type": "code",
      "execution_count": 5,
      "id": "f833a39d",
      "metadata": {
        "colab": {
          "base_uri": "https://localhost:8080/"
        },
        "id": "f833a39d",
        "outputId": "2666562c-325e-4d13-824c-048668752c08"
      },
      "outputs": [
        {
          "name": "stdout",
          "output_type": "stream",
          "text": [
            "tensor([[1., 2., 3.]])\n",
            "tensor([[1., 2., 3.],\n",
            "        [1., 2., 3.]])\n"
          ]
        }
      ],
      "source": [
        "# x is a tensor with size being (3)\n",
        "x = torch.Tensor([1, 2, 3])\n",
        "\n",
        "# Our goal is to generate a tensor z with size (2, 3), so that z[0,:,:] = x, z[1,:,:] = x.\n",
        "\n",
        "############## YOUR CODE HERE ##############\n",
        "# Change the size of x into (1, 3) by using torch.unsqueeze.\n",
        "x = torch.unsqueeze(x, 0)\n",
        "############## END YOUR CODE ##############\n",
        "print(x) # Output is expected to be tensor([[1., 2., 3.]])\n",
        "\n",
        "############## YOUR CODE HERE ##############\n",
        "# Then expand the new tensor to the target tensor by using torch.Tensor.expand.\n",
        "z = x.expand(2, -1)\n",
        "############## END YOUR CODE ##############\n",
        "print(z) # Output is expected to be tensor([[1., 2., 3.], [1., 2., 3.]])"
      ]
    },
    {
      "cell_type": "markdown",
      "id": "2be27d3f",
      "metadata": {
        "id": "2be27d3f"
      },
      "source": [
        "#### 4) Tensor reduction in a given dimension (5 points)"
      ]
    },
    {
      "cell_type": "markdown",
      "id": "dcc6b2b4",
      "metadata": {
        "id": "dcc6b2b4"
      },
      "source": [
        "In deep learning, we often need to compute the mean/sum/max/min value in a given dimension of a tensor. Please read the document of [torch.mean](https://pytorch.org/docs/stable/torch.html#torch.mean), [torch.sum](https://pytorch.org/docs/stable/torch.html#torch.sum), [torch.max](https://pytorch.org/docs/stable/torch.html#torch.max), [torch.min](https://pytorch.org/docs/stable/torch.html#torch.min), [torch.topk](https://pytorch.org/docs/stable/torch.html#torch.topk), and finish the following practice."
      ]
    },
    {
      "cell_type": "code",
      "execution_count": 6,
      "id": "6a48592c",
      "metadata": {
        "colab": {
          "base_uri": "https://localhost:8080/"
        },
        "id": "6a48592c",
        "outputId": "a27f4911-9fbd-4282-bdbb-e85b584ba782"
      },
      "outputs": [
        {
          "name": "stdout",
          "output_type": "stream",
          "text": [
            "torch.Size([10])\n",
            "torch.Size([10])\n",
            "torch.Size([10])\n",
            "torch.Size([10])\n",
            "torch.Size([10, 5])\n"
          ]
        }
      ],
      "source": [
        "# x is a random tensor with size being (10, 50)\n",
        "x = torch.randn(10, 50)\n",
        "\n",
        "############## YOUR CODE HERE ##############\n",
        "# Compute the mean value for each row of x.\n",
        "# You need to generate a tensor x_mean of size (10), and x_mean[k, :] is the mean value of the k-th row of x.\n",
        "# dim = 1: eliminate the second(1)'s dimension\n",
        "x_mean = torch.mean(x, dim=1)\n",
        "############## END YOUR CODE ##############\n",
        "print(x_mean.shape)\n",
        "\n",
        "############## YOUR CODE HERE ##############\n",
        "# Compute the sum value for each row of x.\n",
        "# You need to generate a tensor x_sum of size (10).\n",
        "x_sum = torch.sum(x, dim=1)\n",
        "############## END YOUR CODE ##############\n",
        "print(x_sum.shape)\n",
        "\n",
        "############## YOUR CODE HERE ##############\n",
        "# Compute the max value for each row of x.\n",
        "# You need to generate a tensor x_max of size (10).\n",
        "# Hint: torch.max() -> (max_val, indices)\n",
        "(x_max, indices) = torch.max(x, dim=1)\n",
        "############## END YOUR CODE ##############\n",
        "print(x_max.shape)\n",
        "\n",
        "############## YOUR CODE HERE ##############\n",
        "# Compute the min value for each row of x.\n",
        "# You need to generate a tensor x_min of size (10).\n",
        "# Hint: torch.max() -> (min_val, indices)\n",
        "(x_min, indices) = torch.min(x, dim=1)\n",
        "print(x_min.shape)\n",
        "############## END YOUR CODE ##############\n",
        "\n",
        "############## YOUR CODE HERE ##############\n",
        "# Compute the top-5 values for each row of x.\n",
        "# You need to generate a tensor x_min of size (10. 5).\n",
        "# Hint: torch.max() -> (min_val, indices)\n",
        "(x_xtop, indices) = torch.topk(x, k=5, dim=1)\n",
        "print((x_xtop.shape))\n",
        "############## END YOUR CODE ##############"
      ]
    },
    {
      "cell_type": "markdown",
      "id": "ef466b57",
      "metadata": {
        "id": "ef466b57"
      },
      "source": [
        "### Autograd (0 point) (Highly recommend checking it out)\n",
        "This small section shows you how pytorch computes gradients. When we create tenors, we can set `requires_grad` to be true to indicate that we are using gradients. For most of the work that you actually do, you will use the `nn` package, which automatically sets all parameter tensors to have `requires_grad=True`."
      ]
    },
    {
      "cell_type": "code",
      "execution_count": 7,
      "id": "b7ac63b5",
      "metadata": {
        "colab": {
          "base_uri": "https://localhost:8080/"
        },
        "id": "b7ac63b5",
        "outputId": "f3574cb2-56f1-4c90-8855-2831f56e02b0"
      },
      "outputs": [
        {
          "name": "stdout",
          "output_type": "stream",
          "text": [
            "W gradient: tensor([[0.0277],\n",
            "        [0.0277],\n",
            "        [0.0277],\n",
            "        [0.0277],\n",
            "        [0.0277]])\n",
            "b gradient: tensor([0.0277])\n",
            "Weight before tensor([[ 1.5007],\n",
            "        [-2.2757],\n",
            "        [-2.4327],\n",
            "        [ 0.3681],\n",
            "        [-0.4420]], requires_grad=True)\n",
            "Updated weight tensor([[ 1.4979],\n",
            "        [-2.2784],\n",
            "        [-2.4355],\n",
            "        [ 0.3654],\n",
            "        [-0.4448]], requires_grad=True)\n"
          ]
        }
      ],
      "source": [
        "# Below is an example of computing the gradient for a single data point in logistic regression using pytorch's autograd.\n",
        "\n",
        "x = torch.ones(5)  # input tensor\n",
        "y = torch.zeros(1)  # label\n",
        "# requires_grad = True : we are using this parameter's gradient\n",
        "# use nn package, set all parameter tensors to have required_grad = True\n",
        "w = torch.randn(5, 1, requires_grad=True)\n",
        "b = torch.randn(1, requires_grad=True)\n",
        "pred = torch.sigmoid(torch.matmul(x, w) + b)\n",
        "loss = torch.nn.functional.binary_cross_entropy(pred, y)\n",
        "loss.backward()  # Computers gradients\n",
        "print(\"W gradient:\", w.grad)\n",
        "print(\"b gradient:\", b.grad)\n",
        "\n",
        "# when we want to actually take an update step, we can use optimizers:\n",
        "optimizer = torch.optim.SGD([w, b], lr=0.1)  # [w,b] is the model.parameters()\n",
        "print(\"Weight before\", w)\n",
        "optimizer.step()  # use the computed gradients to update\n",
        "# Print updated weights\n",
        "print(\"Updated weight\", w)\n",
        "\n",
        "# Performing operations with gradients enabled is slow...\n",
        "# You can disable gradient computation using the following enclosure:\n",
        "with torch.no_grad():\n",
        "    # Perform operations without gradients\n",
        "    ..."
      ]
    },
    {
      "cell_type": "markdown",
      "id": "72f716c9",
      "metadata": {
        "id": "72f716c9"
      },
      "source": [
        "### Devices (0 point) (Highly recommend checking it out)"
      ]
    },
    {
      "cell_type": "markdown",
      "id": "bcefaa78",
      "metadata": {
        "id": "bcefaa78"
      },
      "source": [
        "Pytorch supports accelerating computation using GPUs which are available on google colab. To use a GPU on google colab, go to runtime -> change runtime type -> select GPU.\n",
        "\n",
        "Note that there is some level of strategy for knowing when to use which runtime type. Colab will kick users off of GPU for a certain period of time if you use it too much. Thus, its best to run simple models and prototype to get everything working on CPU, then switch the instance type over to GPU for training runs and parameter tuning.\n",
        "\n",
        "Its best practice to make sure your code works on any device (GPU or CPU) for pytorch, but note that numpy operations can only run on the CPU. Here is a standard flow for using GPU acceleration:"
      ]
    },
    {
      "cell_type": "code",
      "execution_count": 8,
      "id": "7b0f573f",
      "metadata": {
        "colab": {
          "base_uri": "https://localhost:8080/"
        },
        "id": "7b0f573f",
        "outputId": "f6315d3d-6350-4a32-c22f-5966dba4a08d"
      },
      "outputs": [
        {
          "name": "stdout",
          "output_type": "stream",
          "text": [
            "Using device cuda\n"
          ]
        }
      ],
      "source": [
        "# Determine the device\n",
        "device = torch.device(\"cuda\" if torch.cuda.is_available() else \"cpu\")\n",
        "print(\"Using device\", device)\n",
        "# Next create your tensors\n",
        "tensor = torch.zeros(4, 4, requires_grad=True)\n",
        "# Move the tensor to the device you want to use\n",
        "tensor = tensor.to(device)\n",
        "\n",
        "# Perform whatever operations you want.... (often this will involve gradients)\n",
        "# These operations will be accelerated by GPU.\n",
        "tensor = 10*(tensor + 1)\n",
        "\n",
        "# bring the tensor back to CPU, first detaching it from any gradient computations\n",
        "tensor = tensor.detach().cpu()\n",
        "\n",
        "# Convert to numpy if you want to perform numpy operations.\n",
        "tensor_np = tensor.numpy()"
      ]
    },
    {
      "cell_type": "markdown",
      "id": "1c7dcfa9",
      "metadata": {
        "id": "1c7dcfa9"
      },
      "source": [
        "### Build an NN (0 point) (Highly recommend checking it out)\n",
        "Pytorch implements composable blocks in `Module` classes. All layers and modules in pytorch inherit from `nn.Module`. When you make a module you need to implement two functions: `__init__(self, *args, **kwargs)` and `foward(self, *args, **kwargs)`. Modules also have some nice helper functions, namely `parameters` which will recursively return all of the parameters. Here is an example of a logistic regression model:"
      ]
    },
    {
      "cell_type": "code",
      "execution_count": 9,
      "id": "5f267628",
      "metadata": {
        "colab": {
          "base_uri": "https://localhost:8080/"
        },
        "id": "5f267628",
        "outputId": "18e3d51c-17b1-45c6-b18f-31b64833b940"
      },
      "outputs": [
        {
          "name": "stdout",
          "output_type": "stream",
          "text": [
            "Parameters [Parameter containing:\n",
            "tensor([[-0.0347, -0.1116,  0.1682, -0.3091, -0.1193, -0.0733,  0.0937,  0.0166,\n",
            "          0.1066,  0.0793]], device='cuda:0', requires_grad=True), Parameter containing:\n",
            "tensor([0.0771], device='cuda:0', requires_grad=True)]\n"
          ]
        }
      ],
      "source": [
        "class Perceptron(nn.Module):\n",
        "    def __init__(self, in_dim):\n",
        "        super().__init__()\n",
        "        # This is a linear layer, it computes Xw + b\n",
        "        self.layer = nn.Linear(in_dim, 1)\n",
        "\n",
        "    def forward(self, x):\n",
        "        return torch.sigmoid(self.layer(x)).squeeze(-1)\n",
        "\n",
        "\n",
        "perceptron = Perceptron(10)\n",
        "# Move all the perceptron's tensors to the device\n",
        "perceptron = perceptron.to(device)\n",
        "# module.parameters() return all the parameters in this module ; There W and b\n",
        "print(\"Parameters\", list(perceptron.parameters()))"
      ]
    },
    {
      "cell_type": "markdown",
      "id": "955aa3be",
      "metadata": {
        "id": "955aa3be"
      },
      "source": [
        "### Datasets (0 point) (Highly recommend checking it out)\n",
        "Pytorch has nice interfaces for using datasets. Suppose we create a logistic regression dataset as follows:"
      ]
    },
    {
      "cell_type": "code",
      "execution_count": 10,
      "id": "b2c85b34",
      "metadata": {
        "colab": {
          "base_uri": "https://localhost:8080/",
          "height": 430
        },
        "id": "b2c85b34",
        "outputId": "2b18b372-4f07-4ed2-d504-d07cbb2de062"
      },
      "outputs": [
        {
          "data": {
            "image/png": "[encoded data removed]",
            "text/plain": [
              "<Figure size 640x480 with 1 Axes>"
            ]
          },
          "metadata": {},
          "output_type": "display_data"
        }
      ],
      "source": [
        "c1_x1, c1_x2 = np.random.multivariate_normal(\n",
        "    [-2.5, 3], [[1, 0.3], [0.3, 1]], 500).T\n",
        "c2_x1, c2_x2 = np.random.multivariate_normal([1, 1], [[2, 1], [1, 2]], 500).T\n",
        "c1_X = np.vstack((c1_x1, c1_x2)).T\n",
        "c2_X = np.vstack((c2_x1, c2_x2)).T\n",
        "X = np.concatenate((c1_X, c2_X))\n",
        "y = np.concatenate((np.zeros(500), np.ones(500)))\n",
        "# Shuffle the data\n",
        "permutation = np.random.permutation(X.shape[0])\n",
        "X = X[permutation, :]\n",
        "y = y[permutation]\n",
        "# Plot the data\n",
        "plt.plot(c1_x1, c1_x2, 'x')\n",
        "plt.plot(c2_x1, c2_x2, 'o')\n",
        "plt.axis('equal')\n",
        "plt.show()"
      ]
    },
    {
      "cell_type": "markdown",
      "id": "7b83f341",
      "metadata": {
        "id": "7b83f341"
      },
      "source": [
        "We can then create a pytorch dataset object as follows. Often times, the default pytorch datasets will create these objects for you. Then, we can apply dataloaders to iterate over the dataset in batches."
      ]
    },
    {
      "cell_type": "code",
      "execution_count": 11,
      "id": "a7acbef4",
      "metadata": {
        "colab": {
          "base_uri": "https://localhost:8080/"
        },
        "id": "a7acbef4",
        "outputId": "b2ad75ba-33bd-4444-fd69-e0ffddc50d49"
      },
      "outputs": [
        {
          "name": "stdout",
          "output_type": "stream",
          "text": [
            "<torch.utils.data.dataset.TensorDataset object at 0xc8d015729b0>\n",
            "Batch x: tensor([[-3.0235,  3.5044],\n",
            "        [-3.9444,  2.7082],\n",
            "        [ 2.8794,  1.6740],\n",
            "        [-3.5330,  4.1283],\n",
            "        [-3.4502,  2.8050],\n",
            "        [-0.1827,  4.6417],\n",
            "        [-1.9015,  3.0615],\n",
            "        [-3.0099,  2.7623],\n",
            "        [ 2.6067,  1.6649],\n",
            "        [-1.8160,  2.8783]], dtype=torch.float64)\n",
            "Batch y: tensor([0., 0., 1., 0., 0., 0., 0., 0., 1., 0.], dtype=torch.float64)\n"
          ]
        }
      ],
      "source": [
        "dataset = torch.utils.data.TensorDataset(\n",
        "    torch.from_numpy(X), torch.from_numpy(y))\n",
        "print(dataset)\n",
        "# We can create a dataloader that iterates over the dataset in batches.\n",
        "dataloader = torch.utils.data.DataLoader(dataset, batch_size=10, shuffle=True)\n",
        "for x, y in dataloader:\n",
        "    print(\"Batch x:\", x)\n",
        "    print(\"Batch y:\", y)\n",
        "    break\n",
        "\n",
        "# Clean up the dataloader as we make a new one later, you can ignore it here\n",
        "del dataloader"
      ]
    },
    {
      "cell_type": "markdown",
      "id": "e7d9eaae",
      "metadata": {
        "id": "e7d9eaae"
      },
      "source": [
        "Splitting Train, Validation and Test sets randomly."
      ]
    },
    {
      "cell_type": "code",
      "execution_count": 12,
      "id": "91e4123e",
      "metadata": {
        "colab": {
          "base_uri": "https://localhost:8080/"
        },
        "id": "91e4123e",
        "outputId": "d10d5921-deda-4151-a99d-604b82d24981"
      },
      "outputs": [
        {
          "name": "stdout",
          "output_type": "stream",
          "text": [
            "Training size: 700\n",
            "Validation size: 150\n",
            "Testing size: 150\n"
          ]
        }
      ],
      "source": [
        "#Training: 70%, Validation: 15%, Testing: 15%\n",
        "train_size = int(0.7 * len(dataset))\n",
        "val_size = int(0.15 * len(dataset))\n",
        "test_size = len(dataset) - train_size - val_size\n",
        "\n",
        "train_dataset, val_dataset, test_dataset = random_split(\n",
        "    dataset, [train_size, val_size, test_size]\n",
        ")\n",
        "\n",
        "# Creat the data_loders\n",
        "batch_size = 10\n",
        "train_loader = DataLoader(train_dataset, batch_size=batch_size, shuffle=True)\n",
        "val_loader = DataLoader(val_dataset, shuffle=False)\n",
        "test_loader = DataLoader(test_dataset, shuffle=False)\n",
        "\n",
        "print(f\"Training size: {len(train_dataset)}\")\n",
        "print(f\"Validation size: {len(val_dataset)}\")\n",
        "print(f\"Testing size: {len(test_dataset)}\")"
      ]
    },
    {
      "cell_type": "markdown",
      "id": "068588b7",
      "metadata": {
        "id": "068588b7"
      },
      "source": [
        "### <font color='red'>Training Loop and Progress Bar (0 point) (Very important! Highly recommend checking it out)</font>"
      ]
    },
    {
      "cell_type": "markdown",
      "id": "a2d9bc50",
      "metadata": {
        "id": "a2d9bc50"
      },
      "source": [
        "Here is an example of training a full Logistic Regression model in pytorch. Note the extensive use of modules -- modules can be used for storing networks, computation steps etc."
      ]
    },
    {
      "cell_type": "code",
      "execution_count": 13,
      "id": "0ffa39b0",
      "metadata": {
        "colab": {
          "base_uri": "https://localhost:8080/"
        },
        "id": "0ffa39b0",
        "outputId": "9a75bb71-02f2-48dd-83e0-2ec59e8072c1"
      },
      "outputs": [
        {
          "name": "stdout",
          "output_type": "stream",
          "text": [
            "Using device cuda\n"
          ]
        },
        {
          "name": "stderr",
          "output_type": "stream",
          "text": [
            "100%|██████████| 70/70 [00:00<00:00, 1293.73it/s]\n"
          ]
        },
        {
          "name": "stdout",
          "output_type": "stream",
          "text": [
            "Epoch 1/10 | Train Loss: 0.3939 | Train Acc: 0.8529 | Val Loss: 0.3430 | Val Acc: 0.9133\n"
          ]
        },
        {
          "name": "stderr",
          "output_type": "stream",
          "text": [
            "100%|██████████| 70/70 [00:00<00:00, 3099.74it/s]\n"
          ]
        },
        {
          "name": "stdout",
          "output_type": "stream",
          "text": [
            "Epoch 2/10 | Train Loss: 0.3009 | Train Acc: 0.9171 | Val Loss: 0.2979 | Val Acc: 0.9067\n"
          ]
        },
        {
          "name": "stderr",
          "output_type": "stream",
          "text": [
            "100%|██████████| 70/70 [00:00<00:00, 3031.60it/s]\n"
          ]
        },
        {
          "name": "stdout",
          "output_type": "stream",
          "text": [
            "Epoch 3/10 | Train Loss: 0.2727 | Train Acc: 0.9086 | Val Loss: 0.2767 | Val Acc: 0.9067\n"
          ]
        },
        {
          "name": "stderr",
          "output_type": "stream",
          "text": [
            "100%|██████████| 70/70 [00:00<00:00, 2770.69it/s]\n"
          ]
        },
        {
          "name": "stdout",
          "output_type": "stream",
          "text": [
            "Epoch 4/10 | Train Loss: 0.2563 | Train Acc: 0.9129 | Val Loss: 0.2619 | Val Acc: 0.9133\n"
          ]
        },
        {
          "name": "stderr",
          "output_type": "stream",
          "text": [
            "100%|██████████| 70/70 [00:00<00:00, 2424.15it/s]\n"
          ]
        },
        {
          "name": "stdout",
          "output_type": "stream",
          "text": [
            "Epoch 5/10 | Train Loss: 0.2440 | Train Acc: 0.9143 | Val Loss: 0.2503 | Val Acc: 0.9200\n"
          ]
        },
        {
          "name": "stderr",
          "output_type": "stream",
          "text": [
            "100%|██████████| 70/70 [00:00<00:00, 3193.23it/s]\n"
          ]
        },
        {
          "name": "stdout",
          "output_type": "stream",
          "text": [
            "Epoch 6/10 | Train Loss: 0.2339 | Train Acc: 0.9186 | Val Loss: 0.2405 | Val Acc: 0.9400\n"
          ]
        },
        {
          "name": "stderr",
          "output_type": "stream",
          "text": [
            "100%|██████████| 70/70 [00:00<00:00, 2874.30it/s]\n"
          ]
        },
        {
          "name": "stdout",
          "output_type": "stream",
          "text": [
            "Epoch 7/10 | Train Loss: 0.2253 | Train Acc: 0.9243 | Val Loss: 0.2320 | Val Acc: 0.9400\n"
          ]
        },
        {
          "name": "stderr",
          "output_type": "stream",
          "text": [
            "100%|██████████| 70/70 [00:00<00:00, 3044.87it/s]\n"
          ]
        },
        {
          "name": "stdout",
          "output_type": "stream",
          "text": [
            "Epoch 8/10 | Train Loss: 0.2176 | Train Acc: 0.9314 | Val Loss: 0.2244 | Val Acc: 0.9400\n"
          ]
        },
        {
          "name": "stderr",
          "output_type": "stream",
          "text": [
            "100%|██████████| 70/70 [00:00<00:00, 3388.40it/s]\n"
          ]
        },
        {
          "name": "stdout",
          "output_type": "stream",
          "text": [
            "Epoch 9/10 | Train Loss: 0.2108 | Train Acc: 0.9314 | Val Loss: 0.2176 | Val Acc: 0.9400\n"
          ]
        },
        {
          "name": "stderr",
          "output_type": "stream",
          "text": [
            "100%|██████████| 70/70 [00:00<00:00, 2921.26it/s]\n"
          ]
        },
        {
          "name": "stdout",
          "output_type": "stream",
          "text": [
            "Epoch 10/10 | Train Loss: 0.2047 | Train Acc: 0.9314 | Val Loss: 0.2114 | Val Acc: 0.9400\n",
            "\n",
            "Test Accuracy: 93.33%\n"
          ]
        }
      ],
      "source": [
        "device = torch.device(\"cuda\" if torch.cuda.is_available() else \"cpu\")\n",
        "print(\"Using device\", device)\n",
        "\n",
        "epochs = 10\n",
        "batch_size = 10\n",
        "learning_rate = 0.01\n",
        "\n",
        "num_features = dataset[0][0].shape[0]\n",
        "model = Perceptron(num_features).to(device)\n",
        "optimizer = torch.optim.SGD(model.parameters(), lr=learning_rate)\n",
        "criterion = torch.nn.BCELoss()\n",
        "\n",
        "model.train()  # Put model in training mode\n",
        "for epoch in range(epochs):\n",
        "    training_losses = []\n",
        "    train_correct = 0\n",
        "    ProgressBar = tqdm(train_loader)\n",
        "    for x, y in ProgressBar:\n",
        "        x, y = x.float().to(device), y.float().to(device)\n",
        "        #  for every mini-batch during the training phase, we typically want to explicitly set the gradients to zero before starting to do backpropagation\n",
        "        # Remove the gradients from the previous step ;Sets the gradients of all optimized torch.Tensor s to zero.\n",
        "        optimizer.zero_grad()\n",
        "        pred = model(x)   # The value predicted using our model\n",
        "        # compute loss\n",
        "        loss = criterion(pred, y)\n",
        "        # Compute gradients.\n",
        "        loss.backward()\n",
        "        # update the parameter using the gradient computed\n",
        "        optimizer.step()\n",
        "        training_losses.append(loss.item())\n",
        "        # In a classification task, the output of a neural network model is typically the scores or probabilities for each class.\n",
        "        # For example, in a 10-class classification task, the output of the last layer of the model is a tensor with the shape of (batch_size, 10). For each sample (i.e., each row in pred), we can obtain the predicted class index of each sample by using torch.argmax(pred, dim=1).\n",
        "        # So for multi-class classification tasks, try to use: train_correct += torch.sum(torch.argmax(pred, dim=1) == y).item()\n",
        "        train_correct += torch.sum(torch.round(pred) == y).item()\n",
        "    train_accuracy = train_correct / len(train_dataset)\n",
        "    val_losses = []\n",
        "    num_correct = 0\n",
        "    with torch.no_grad():\n",
        "        model.eval()  # Put model in eval mode\n",
        "        for x_val, y_val in val_loader:\n",
        "            x_val, y_val = x_val.float().to(device), y_val.float().to(device)\n",
        "            pred_val = model(x_val)\n",
        "            loss_val = criterion(pred_val, y_val)\n",
        "            val_losses.append(loss_val.item())\n",
        "            num_correct += torch.sum(torch.round(pred_val) == y_val).item()\n",
        "        model.train()  # Put model back in train mode\n",
        "    print(  f\"Epoch {epoch+1}/{epochs} | \"\n",
        "            f\"Train Loss: {np.mean(training_losses):.4f} | \"\n",
        "            f\"Train Acc: {train_accuracy:.4f} | \"\n",
        "            f\"Val Loss: {np.mean(val_losses):.4f} | \"\n",
        "            f\"Val Acc: {num_correct / len(val_dataset):.4f}\")\n",
        "\n",
        "# We can run predictions on the data to determine the Testing accuracy.\n",
        "model.eval()\n",
        "test_correct = 0\n",
        "with torch.no_grad():\n",
        "    for x, y in test_loader:\n",
        "        x, y = x.float().to(device), y.float().to(device)\n",
        "        pred = model(x)\n",
        "        test_correct += torch.sum(torch.round(pred) == y).item()\n",
        "\n",
        "print(f\"\\nTest Accuracy: {test_correct / len(test_dataset):.2%}\")"
      ]
    },
    {
      "cell_type": "markdown",
      "id": "f3316220",
      "metadata": {
        "id": "f3316220"
      },
      "source": [
        "## Problem 1: MLP for FashionMNIST (18 points)"
      ]
    },
    {
      "cell_type": "markdown",
      "id": "a305c856",
      "metadata": {
        "id": "a305c856"
      },
      "source": [
        "Now you will train a multi-layer perceptron model on the FashionMNIST dataset. Your deliverables are as follows:\n",
        "\n",
        "1. Code for training an MLP on FashionMNIST.\n",
        "2. A plot of the training and validation loss for at least 8 epochs.\n",
        "3. A plot of the training and validation accuracy for each epoch, achieving a final validation accuracy of at least 82% by the end of the training.\n",
        "\n",
        "Below we will create the training and validation datasets for you. It is on you to implement an MLP / Feed Forward neural network yourself. Please leverage the example training loop from above.\n",
        "\n",
        "Here are some pytorch components that you should definitely use:\n",
        "1. `nn.Linear`\n",
        "2. Some activation: `nn.ReLU`, `nn.Tanh`, `nn.Sigmoid`, etc.\n",
        "3. `nn.CrossEntropyLoss`\n",
        "\n",
        "Here are some challenges that you will need to overcome:\n",
        "1. The data is, by default, configured in image form, i.e. a (28 x 28) tensor per sample, instead of single feature vector. You will need to **reshape** it somewhere to feed it in as vector to the MLP. There are many ways of doing this according to **Problem 0**.\n",
        "2. You need to write code for plotting.\n",
        "3. You need to find the appropriate hyper-parameters to achieve good accuracy.\n",
        "\n",
        "Your underlying model must be fully connected or \"dense\", and may not use any convolutions etc., but you can use anything in `torch.optim` or any layers in `torch.nn` besides `nn.Linear` that do not have weights."
      ]
    },
    {
      "cell_type": "code",
      "execution_count": 14,
      "id": "fd37cc95",
      "metadata": {
        "colab": {
          "base_uri": "https://localhost:8080/"
        },
        "id": "fd37cc95",
        "outputId": "0a7465d5-83f5-4f20-9a55-964b3dd7befd"
      },
      "outputs": [],
      "source": [
        "# Creating the datasets\n",
        "# feel free to modify this as you see fit.\n",
        "transform = torchvision.transforms.ToTensor()\n",
        "\n",
        "training_data = torchvision.datasets.FashionMNIST(\n",
        "    root=\"data\",\n",
        "    train=True,\n",
        "    download=True,\n",
        "    transform=transform,\n",
        ")\n",
        "\n",
        "validation_data = torchvision.datasets.FashionMNIST(\n",
        "    root=\"data\",\n",
        "    train=False,\n",
        "    download=True,\n",
        "    transform=transform,\n",
        ")"
      ]
    },
    {
      "cell_type": "code",
      "execution_count": 15,
      "id": "92de4324",
      "metadata": {
        "colab": {
          "base_uri": "https://localhost:8080/",
          "height": 451
        },
        "id": "92de4324",
        "outputId": "8ed31c2d-3123-4b3a-d013-38ac857566c7"
      },
      "outputs": [
        {
          "data": {
            "text/plain": [
              "<matplotlib.image.AxesImage at 0xc8e70342b60>"
            ]
          },
          "execution_count": 15,
          "metadata": {},
          "output_type": "execute_result"
        },
        {
          "data": {
            "image/png": "[encoded data removed]",
            "text/plain": [
              "<Figure size 640x480 with 1 Axes>"
            ]
          },
          "metadata": {},
          "output_type": "display_data"
        }
      ],
      "source": [
        "images = [training_data[i][0] for i in range(9)]\n",
        "plt.imshow(torchvision.utils.make_grid(torch.stack(images), nrow=3, padding=5).numpy().transpose((1, 2, 0)))"
      ]
    },
    {
      "cell_type": "code",
      "execution_count": 16,
      "id": "70cc212d",
      "metadata": {
        "colab": {
          "base_uri": "https://localhost:8080/"
        },
        "id": "70cc212d",
        "outputId": "af7c3ac7-5a7b-4c5e-d12e-b06ae92997b1"
      },
      "outputs": [
        {
          "name": "stdout",
          "output_type": "stream",
          "text": [
            "number of training samples: 60000\n",
            "number of validation samples: 10000\n",
            "datatype of the 1st training sample:  torch.FloatTensor\n",
            "size of the 1st training sample:  torch.Size([1, 28, 28])\n",
            "max_label = 9\n",
            "min_label = 0\n"
          ]
        }
      ],
      "source": [
        "# Get the knowledge of the Training and Validation Set\n",
        "print(\"number of training samples: \" + str(len(training_data)) + \"\\n\" +\n",
        "        \"number of validation samples: \" + str(len(validation_data)))\n",
        "print(\"datatype of the 1st training sample: \", training_data[0][0].type())\n",
        "print(\"size of the 1st training sample: \", training_data[0][0].size())\n",
        "\n",
        "# Find out how many categories in the sample.\n",
        "max_label = float(\"-inf\")\n",
        "min_label = float(\"inf\")\n",
        "for i in range(len(training_data)):\n",
        "    if training_data[i][1] > max_label:\n",
        "        max_label = training_data[i][1]\n",
        "    if training_data[i][1] < min_label:\n",
        "        min_label = training_data[i][1]\n",
        "print(\"max_label = \"+str(max_label))\n",
        "print(\"min_label = \"+str(min_label))"
      ]
    },
    {
      "cell_type": "markdown",
      "id": "70472772",
      "metadata": {
        "id": "70472772"
      },
      "source": [
        "In the cell below, you'll implement a MLP. Please follow the guidence in comments. <br>\n",
        "**Scoring criteria:**<br>\n",
        "**1. Print out the train loss, train accuracy, validation loss, and validation accuracy for each epoch. (8 points)**<br>\n",
        "**2. Grading criteria: <br>\n",
        "At the last epoch, if the validation accuracy (validation_acc) of your model is greater than or equal to 0.86, you will get `10 points`. <br>\n",
        "If 0.83 <= validation_acc < 0.86, you will get `6 points`. <br>\n",
        "If 0.80 <= validation_acc < 0.83, you will get `4 points`. <br>\n",
        "If validation_acc < 0.80, you will not get any score. <br>\n",
        "You are free to use the *early stopping* strategy that can prevent overfitting.**"
      ]
    },
    {
      "cell_type": "code",
      "execution_count": 17,
      "id": "bb9ab9a4",
      "metadata": {
        "colab": {
          "base_uri": "https://localhost:8080/"
        },
        "id": "bb9ab9a4",
        "outputId": "c24418f2-3224-4eb3-c8d7-d0a6ea3c70fd"
      },
      "outputs": [
        {
          "name": "stdout",
          "output_type": "stream",
          "text": [
            "Using device cuda\n"
          ]
        },
        {
          "name": "stderr",
          "output_type": "stream",
          "text": [
            "100%|██████████| 1875/1875 [00:02<00:00, 743.40it/s]\n"
          ]
        },
        {
          "name": "stdout",
          "output_type": "stream",
          "text": [
            "Epoch 1/10 | Train Loss: 0.8922 | Train Acc: 0.6672 | Val Loss: 0.5317 | Val Acc: 0.8113\n"
          ]
        },
        {
          "name": "stderr",
          "output_type": "stream",
          "text": [
            "100%|██████████| 1875/1875 [00:02<00:00, 756.88it/s]\n"
          ]
        },
        {
          "name": "stdout",
          "output_type": "stream",
          "text": [
            "Epoch 2/10 | Train Loss: 0.4622 | Train Acc: 0.8323 | Val Loss: 0.4435 | Val Acc: 0.8427\n"
          ]
        },
        {
          "name": "stderr",
          "output_type": "stream",
          "text": [
            "100%|██████████| 1875/1875 [00:02<00:00, 754.30it/s]\n"
          ]
        },
        {
          "name": "stdout",
          "output_type": "stream",
          "text": [
            "Epoch 3/10 | Train Loss: 0.3969 | Train Acc: 0.8549 | Val Loss: 0.4039 | Val Acc: 0.8517\n"
          ]
        },
        {
          "name": "stderr",
          "output_type": "stream",
          "text": [
            "100%|██████████| 1875/1875 [00:02<00:00, 758.10it/s]\n"
          ]
        },
        {
          "name": "stdout",
          "output_type": "stream",
          "text": [
            "Epoch 4/10 | Train Loss: 0.3634 | Train Acc: 0.8662 | Val Loss: 0.3802 | Val Acc: 0.8594\n"
          ]
        },
        {
          "name": "stderr",
          "output_type": "stream",
          "text": [
            "100%|██████████| 1875/1875 [00:02<00:00, 732.73it/s]\n"
          ]
        },
        {
          "name": "stdout",
          "output_type": "stream",
          "text": [
            "Epoch 5/10 | Train Loss: 0.3408 | Train Acc: 0.8748 | Val Loss: 0.3949 | Val Acc: 0.8597\n"
          ]
        },
        {
          "name": "stderr",
          "output_type": "stream",
          "text": [
            "100%|██████████| 1875/1875 [00:02<00:00, 754.02it/s]\n"
          ]
        },
        {
          "name": "stdout",
          "output_type": "stream",
          "text": [
            "Epoch 6/10 | Train Loss: 0.3249 | Train Acc: 0.8795 | Val Loss: 0.3661 | Val Acc: 0.8687\n"
          ]
        },
        {
          "name": "stderr",
          "output_type": "stream",
          "text": [
            "100%|██████████| 1875/1875 [00:02<00:00, 764.32it/s]\n"
          ]
        },
        {
          "name": "stdout",
          "output_type": "stream",
          "text": [
            "Epoch 7/10 | Train Loss: 0.3094 | Train Acc: 0.8865 | Val Loss: 0.3756 | Val Acc: 0.8650\n"
          ]
        },
        {
          "name": "stderr",
          "output_type": "stream",
          "text": [
            "100%|██████████| 1875/1875 [00:02<00:00, 764.55it/s]\n"
          ]
        },
        {
          "name": "stdout",
          "output_type": "stream",
          "text": [
            "Epoch 8/10 | Train Loss: 0.2970 | Train Acc: 0.8899 | Val Loss: 0.3576 | Val Acc: 0.8706\n"
          ]
        },
        {
          "name": "stderr",
          "output_type": "stream",
          "text": [
            "100%|██████████| 1875/1875 [00:02<00:00, 759.80it/s]\n"
          ]
        },
        {
          "name": "stdout",
          "output_type": "stream",
          "text": [
            "Epoch 9/10 | Train Loss: 0.2875 | Train Acc: 0.8919 | Val Loss: 0.3519 | Val Acc: 0.8728\n"
          ]
        },
        {
          "name": "stderr",
          "output_type": "stream",
          "text": [
            "100%|██████████| 1875/1875 [00:02<00:00, 745.55it/s]\n"
          ]
        },
        {
          "name": "stdout",
          "output_type": "stream",
          "text": [
            "Epoch 10/10 | Train Loss: 0.2765 | Train Acc: 0.8969 | Val Loss: 0.3535 | Val Acc: 0.8724\n"
          ]
        }
      ],
      "source": [
        "############## YOUR CODE HERE ##############\n",
        "# 1. Confirm whether the CUDA is available or not.\n",
        "device = torch.device(\"cuda\" if torch.cuda.is_available() else \"cpu\")\n",
        "print(\"Using device\", device)\n",
        "\n",
        "# 2. Encapsulate your Multilayer Perceptron (MLP) model within a class.\n",
        "# This class should include a constructor function __init__(...) and a forward(...) function that is used to carry out forward propagation.\n",
        "\n",
        "class MLP(nn.Module):\n",
        "    def __init__(self, in_dim, out_dim):\n",
        "        super().__init__()\n",
        "        self.fc0 = nn.Linear(in_dim, 128)\n",
        "        self.fc1 = nn.Linear(128, 128)\n",
        "        self.fc2 = nn.Linear(128, 128)\n",
        "        self.fc3 = nn.Linear(128, 128)\n",
        "        self.fc4 = nn.Linear(128, out_dim)\n",
        "        self.activation_func = nn.ReLU()\n",
        "\n",
        "    def forward(self, x):\n",
        "        x = self.activation_func(self.fc0(x))\n",
        "        x = self.activation_func(self.fc1(x))\n",
        "        x = self.activation_func(self.fc2(x))\n",
        "        x = self.activation_func(self.fc3(x))\n",
        "        x = self.fc4(x)\n",
        "        return x\n",
        "\n",
        "\n",
        "# 3. Initialize your model with proper input size and output size\n",
        "n_inputs = 28 * 28\n",
        "n_outputs = 10\n",
        "model = MLP(n_inputs, n_outputs).to(device)\n",
        "\n",
        "# 4. Define the Training Parameters like epochs, batch_size, learning_rate, optimizer, criterion_loss, etc.\n",
        "epochs = 10\n",
        "batch_size = 32\n",
        "learning_rate = 0.05\n",
        "optimizer = optim.SGD(model.parameters(), lr=learning_rate)\n",
        "criterion = nn.CrossEntropyLoss()\n",
        "\n",
        "# 5. Put the training and testing data into a DataLoader\n",
        "# you can use torch.utils.data.DataLoader() to complete this step.\n",
        "train_loader = torch.utils.data.DataLoader(\n",
        "    training_data, batch_size=batch_size, shuffle=True)\n",
        "validation_loader = torch.utils.data.DataLoader(\n",
        "    validation_data, batch_size=batch_size, shuffle=True)\n",
        "\n",
        "# 6. Training\n",
        "# During the training process, make sure to add the training accuracy, validation accuracy, training loss, and validation loss to the list below.\n",
        "# This will allow you to visualize these metrics and assess whether the model is overfitting.\n",
        "train_acc = []\n",
        "valid_acc = []\n",
        "train_loss = []\n",
        "valid_loss = []\n",
        "\n",
        "model.train()  # Put model in training mode\n",
        "for epoch in range(epochs):\n",
        "    training_losses = []\n",
        "    train_correct = 0\n",
        "    ProgressBar = tqdm(train_loader)\n",
        "    for images, labels in ProgressBar:\n",
        "        images = images.view(-1, n_inputs).float().to(device)\n",
        "        labels = labels.to(device)\n",
        "        optimizer.zero_grad()\n",
        "        pred = model(images)\n",
        "        loss = criterion(pred, labels)\n",
        "        loss.backward()\n",
        "        optimizer.step()\n",
        "        training_losses.append(loss.item())\n",
        "        train_correct += torch.sum(torch.argmax(pred, dim=1) == labels).item()\n",
        "    train_accuracy = train_correct / len(training_data)\n",
        "    train_acc.append(train_accuracy)\n",
        "    train_loss.append(np.mean(training_losses))\n",
        "\n",
        "    val_losses = []\n",
        "    num_correct = 0\n",
        "    with torch.no_grad():\n",
        "        model.eval()  # Put model in eval mode\n",
        "        for images, labels in validation_loader:\n",
        "            images = images.view(-1, n_inputs).float().to(device)\n",
        "            labels = labels.to(device)\n",
        "            pred_val = model(images)\n",
        "            loss_val = criterion(pred_val, labels)\n",
        "            val_losses.append(loss_val.item())\n",
        "            num_correct += torch.sum(torch.argmax(pred_val, dim=1) == labels).item()\n",
        "        model.train()  # Put model back in train mode\n",
        "    valid_accuracy = num_correct / len(validation_data)\n",
        "    valid_acc.append(valid_accuracy)\n",
        "    valid_loss.append(np.mean(val_losses))\n",
        "\n",
        "    print(f\"Epoch {epoch + 1}/{epochs} | Train Loss: {np.mean(training_losses):.4f} | Train Acc: {train_accuracy:.4f} | Val Loss: {np.mean(val_losses):.4f} | Val Acc: {valid_accuracy:.4f}\")"
      ]
    },
    {
      "cell_type": "code",
      "execution_count": 18,
      "id": "42b502e7",
      "metadata": {
        "colab": {
          "base_uri": "https://localhost:8080/",
          "height": 957
        },
        "id": "42b502e7",
        "outputId": "f5d836b1-e78f-4cb3-8482-9dc706242df4"
      },
      "outputs": [
        {
          "data": {
            "image/png": "[encoded data removed]",
            "text/plain": [
              "<Figure size 500x500 with 1 Axes>"
            ]
          },
          "metadata": {},
          "output_type": "display_data"
        },
        {
          "data": {
            "image/png": "[encoded data removed]",
            "text/plain": [
              "<Figure size 500x500 with 1 Axes>"
            ]
          },
          "metadata": {},
          "output_type": "display_data"
        }
      ],
      "source": [
        "# plot\n",
        "plt.figure(figsize=(5, 5))\n",
        "plt.plot(train_loss, label='Training_Loss')\n",
        "plt.plot(valid_loss, label='Validation_Loss')\n",
        "plt.xlabel('Epoch')\n",
        "plt.ylabel('Loss')\n",
        "plt.title(\"Loss with epoches\")\n",
        "plt.legend()\n",
        "plt.show()\n",
        "\n",
        "plt.figure(figsize=(5, 5))\n",
        "plt.plot(train_acc, label='Training_Acc')\n",
        "plt.plot(valid_acc, label='Validation_Acc')\n",
        "plt.xlabel('Epoch')\n",
        "plt.ylabel('Accuracy')\n",
        "plt.title(\"Accuracy with epoches\")\n",
        "plt.legend()\n",
        "plt.show()"
      ]
    },
    {
      "cell_type": "markdown",
      "id": "bbdb7e40",
      "metadata": {
        "id": "bbdb7e40"
      },
      "source": [
        "## Problem 2: CNN for CIFAR-10 (20 points)"
      ]
    },
    {
      "cell_type": "markdown",
      "id": "6ef9b1ee",
      "metadata": {
        "id": "6ef9b1ee"
      },
      "source": [
        "In this section, you will construct a Convolutional Neural Network (CNN) for the CIFAR - 10 dataset. You have already utilized this dataset in the coding part of Homework 2. However, in this particular part, there is no need to download the dataset separately. It is advisable to employ GPU acceleration for this section to enhance the operational efficiency. Nevertheless, this is not a mandatory requirement.\n",
        "\n",
        "Here are some of the components you should consider using:\n",
        "1. `nn.Conv2d`\n",
        "2. `nn.ReLU`\n",
        "3. `nn.Linear`\n",
        "4. `nn.CrossEntropyLoss`\n",
        "5. `nn.MaxPooling2d` (Optional, many implementations without it exist)\n",
        "\n",
        "We encourage you to explore different ways of improving your model to obtain higher accuracies. Here are some suggestions for things to look into:\n",
        "1. Popular CNN architectures like ResNets, etc.\n",
        "2. Different optimizers and their parameters (see `torch.optim`)\n",
        "3. Image preprocessing / data augmentation (see `torchvision.transforms`)\n",
        "4. Regularization or dropout (see `torch.optim` and `torch.nn` respectively)\n",
        "5. Learning rate scheduling: https://pytorch.org/docs/stable/optim.html#how-to-adjust-learning-rate\n",
        "6. Weight initialization: https://pytorch.org/docs/stable/nn.init.html\n",
        "\n",
        "Though we encourage you to explore, there are some rules:\n",
        "1. You are not allowed to use any pre-defined architectures or feature extractors in your network.\n",
        "2. You are not allowed to use **any** pretrained weights, i.e. no transfer learning.\n",
        "3. You cannot train on the test data (that would pretty much defeat the whole point of machine learning).\n",
        "\n",
        "<font color='red'>Scoring Criteria:</font>\n",
        "1. The final test accuracy of your model should be $\\geq 0.80$ to obtain **10 points**.<br>\n",
        "If $0.7\\leq$ test_acc $< 0.8$, you will get **5 points**. <br>\n",
        " If test_acc $< 0.7$, no score will be awarded.\n",
        "2. Print out the train loss, train accuracy, validation loss, and validation accuracy for each epoch.**(5 points)**\n",
        "3. Provide at least one training curve for your model. This curve should depict the training loss and validation loss per epoch or step after training for at least 10 epochs. **(5 points)**"
      ]
    },
    {
      "cell_type": "code",
      "execution_count": 19,
      "id": "9b0dd8fc",
      "metadata": {
        "colab": {
          "base_uri": "https://localhost:8080/"
        },
        "id": "9b0dd8fc",
        "outputId": "bdc96980-dd41-4de0-f0aa-c26b0f192322"
      },
      "outputs": [
        {
          "name": "stdout",
          "output_type": "stream",
          "text": [
            "Training size: 45000\n",
            "Validation size: 5000\n",
            "Testing size: 10000\n"
          ]
        }
      ],
      "source": [
        "# Creating the datasets, feel free to change this as long as you do the same to the test data.\n",
        "# You can also modify this to split the data into training and validation.\n",
        "# See https://pytorch.org/docs/stable/data.html#torch.utils.data.random_split\n",
        "\n",
        "# This transform already transform the image data from 0-255 to 0-1\n",
        "import torch\n",
        "import torchvision\n",
        "import torchvision.transforms as transforms\n",
        "\n",
        "# Training and Validation transforms\n",
        "transform_train = transforms.Compose([\n",
        "    transforms.RandomHorizontalFlip(),\n",
        "    transforms.RandomCrop(32, padding=4),\n",
        "    transforms.ToTensor(),\n",
        "    transforms.Normalize((0.4914, 0.4822, 0.4465), (0.2023, 0.1994, 0.2010)),\n",
        "])\n",
        "\n",
        "# Testing transform\n",
        "transform_test = transforms.Compose([\n",
        "    transforms.ToTensor(),\n",
        "    transforms.Normalize((0.4914, 0.4822, 0.4465), (0.2023, 0.1994, 0.2010)),\n",
        "])\n",
        "\n",
        "# Training and validation data\n",
        "train_val_data = torchvision.datasets.CIFAR10(\n",
        "    root='./data',\n",
        "    train=True,\n",
        "    download=True,\n",
        "    transform=transform_train,\n",
        ")\n",
        "\n",
        "# 9:1 randomly split the original training set to training and validation set\n",
        "generator = torch.Generator().manual_seed(42)\n",
        "train_data, valid_data = torch.utils.data.random_split(\n",
        "    train_val_data,\n",
        "    [0.9, 0.1],\n",
        "    generator=generator\n",
        ")\n",
        "\n",
        "# Official testing set.\n",
        "test_data = torchvision.datasets.CIFAR10(\n",
        "    root='./data',\n",
        "    train=False,\n",
        "    download=True,\n",
        "    transform=transform_test,\n",
        ")\n",
        "\n",
        "print(f\"Training size: {len(train_data)}\")\n",
        "print(f\"Validation size: {len(valid_data)}\")\n",
        "print(f\"Testing size: {len(test_data)}\")"
      ]
    },
    {
      "cell_type": "markdown",
      "id": "5f221191",
      "metadata": {
        "id": "5f221191"
      },
      "source": [
        "Again, let's first visualize our data."
      ]
    },
    {
      "cell_type": "code",
      "execution_count": 20,
      "id": "3793ac96",
      "metadata": {
        "colab": {
          "base_uri": "https://localhost:8080/",
          "height": 486
        },
        "id": "3793ac96",
        "outputId": "05e5c254-1f89-4503-955d-994b6e4aee99"
      },
      "outputs": [
        {
          "name": "stderr",
          "output_type": "stream",
          "text": [
            "Clipping input data to the valid range for imshow with RGB data ([0..1] for floats or [0..255] for integers). Got range [-2.4290657..2.7537313].\n"
          ]
        },
        {
          "name": "stdout",
          "output_type": "stream",
          "text": [
            "torch.Size([3, 32, 32])\n"
          ]
        },
        {
          "data": {
            "text/plain": [
              "<matplotlib.image.AxesImage at 0xc8d015a2380>"
            ]
          },
          "execution_count": 20,
          "metadata": {},
          "output_type": "execute_result"
        },
        {
          "data": {
            "image/png": "[encoded data removed]",
            "text/plain": [
              "<Figure size 640x480 with 1 Axes>"
            ]
          },
          "metadata": {},
          "output_type": "display_data"
        }
      ],
      "source": [
        "images = [train_data[i][0] for i in range(9)]\n",
        "print(images[0].size())\n",
        "plt.imshow(torchvision.utils.make_grid(torch.stack(images), nrow=3, padding=5).numpy().transpose((1, 2, 0)))"
      ]
    },
    {
      "cell_type": "code",
      "execution_count": 21,
      "id": "2cbc47b2",
      "metadata": {
        "colab": {
          "base_uri": "https://localhost:8080/"
        },
        "id": "2cbc47b2",
        "outputId": "959fc0b4-e62d-4ed4-b911-ee6e09c7284f"
      },
      "outputs": [
        {
          "name": "stdout",
          "output_type": "stream",
          "text": [
            "number of training samples: 45000\n",
            "number of testing samples: 5000\n",
            "datatype of the 1st training sample:  torch.FloatTensor\n",
            "size of the 1st training sample:  torch.Size([3, 32, 32])\n"
          ]
        }
      ],
      "source": [
        "print(\"number of training samples: \" + str(len(train_data)) + \"\\n\" + \"number of testing samples: \" + str(len(valid_data)))\n",
        "print(\"datatype of the 1st training sample: \", train_data[0][0].type())\n",
        "print(\"size of the 1st training sample: \", train_data[0][0].size())"
      ]
    },
    {
      "cell_type": "code",
      "execution_count": 22,
      "id": "2561b26f",
      "metadata": {
        "colab": {
          "base_uri": "https://localhost:8080/"
        },
        "id": "2561b26f",
        "outputId": "6de72b0a-a19f-4798-e29f-92d98a629c72"
      },
      "outputs": [
        {
          "name": "stdout",
          "output_type": "stream",
          "text": [
            "max_label = 9\n",
            "min_label = 0\n"
          ]
        }
      ],
      "source": [
        "max_label = float(\"-inf\")\n",
        "min_label = float(\"inf\")\n",
        "for i in range(len(train_data)):\n",
        "    if train_data[i][1] > max_label:\n",
        "        max_label = train_data[i][1]\n",
        "    if train_data[i][1] < min_label:\n",
        "        min_label = train_data[i][1]\n",
        "print(\"max_label = \"+str(max_label))\n",
        "print(\"min_label = \"+str(min_label))"
      ]
    },
    {
      "cell_type": "markdown",
      "id": "15144a6b",
      "metadata": {
        "id": "15144a6b"
      },
      "source": [
        "### CNN Construction and Training"
      ]
    },
    {
      "cell_type": "code",
      "execution_count": 23,
      "id": "c1e13554",
      "metadata": {
        "colab": {
          "base_uri": "https://localhost:8080/"
        },
        "id": "c1e13554",
        "outputId": "b4a0b23b-bd48-41d8-a1dd-d9e49b63e76b"
      },
      "outputs": [
        {
          "name": "stdout",
          "output_type": "stream",
          "text": [
            "Using device cuda\n"
          ]
        },
        {
          "name": "stderr",
          "output_type": "stream",
          "text": [
            "100%|██████████| 1500/1500 [00:06<00:00, 224.17it/s]\n"
          ]
        },
        {
          "name": "stdout",
          "output_type": "stream",
          "text": [
            "Epoch 1/40 | Train Loss: 2.1260 | Train Acc: 0.2093 | Val Loss: 1.9297 | Val Acc: 0.3060\n"
          ]
        },
        {
          "name": "stderr",
          "output_type": "stream",
          "text": [
            "100%|██████████| 1500/1500 [00:06<00:00, 228.00it/s]\n"
          ]
        },
        {
          "name": "stdout",
          "output_type": "stream",
          "text": [
            "Epoch 2/40 | Train Loss: 1.8544 | Train Acc: 0.3123 | Val Loss: 1.7199 | Val Acc: 0.3682\n"
          ]
        },
        {
          "name": "stderr",
          "output_type": "stream",
          "text": [
            "100%|██████████| 1500/1500 [00:06<00:00, 227.85it/s]\n"
          ]
        },
        {
          "name": "stdout",
          "output_type": "stream",
          "text": [
            "Epoch 3/40 | Train Loss: 1.6969 | Train Acc: 0.3719 | Val Loss: 1.5865 | Val Acc: 0.4306\n"
          ]
        },
        {
          "name": "stderr",
          "output_type": "stream",
          "text": [
            "100%|██████████| 1500/1500 [00:06<00:00, 230.06it/s]\n"
          ]
        },
        {
          "name": "stdout",
          "output_type": "stream",
          "text": [
            "Epoch 4/40 | Train Loss: 1.6016 | Train Acc: 0.4107 | Val Loss: 1.4794 | Val Acc: 0.4518\n"
          ]
        },
        {
          "name": "stderr",
          "output_type": "stream",
          "text": [
            "100%|██████████| 1500/1500 [00:06<00:00, 230.53it/s]\n"
          ]
        },
        {
          "name": "stdout",
          "output_type": "stream",
          "text": [
            "Epoch 5/40 | Train Loss: 1.5280 | Train Acc: 0.4423 | Val Loss: 1.3996 | Val Acc: 0.4880\n"
          ]
        },
        {
          "name": "stderr",
          "output_type": "stream",
          "text": [
            "100%|██████████| 1500/1500 [00:06<00:00, 228.48it/s]\n"
          ]
        },
        {
          "name": "stdout",
          "output_type": "stream",
          "text": [
            "Epoch 6/40 | Train Loss: 1.4568 | Train Acc: 0.4728 | Val Loss: 1.3346 | Val Acc: 0.5188\n"
          ]
        },
        {
          "name": "stderr",
          "output_type": "stream",
          "text": [
            "100%|██████████| 1500/1500 [00:06<00:00, 229.89it/s]\n"
          ]
        },
        {
          "name": "stdout",
          "output_type": "stream",
          "text": [
            "Epoch 7/40 | Train Loss: 1.3875 | Train Acc: 0.4985 | Val Loss: 1.2581 | Val Acc: 0.5450\n"
          ]
        },
        {
          "name": "stderr",
          "output_type": "stream",
          "text": [
            "100%|██████████| 1500/1500 [00:06<00:00, 229.56it/s]\n"
          ]
        },
        {
          "name": "stdout",
          "output_type": "stream",
          "text": [
            "Epoch 8/40 | Train Loss: 1.3157 | Train Acc: 0.5270 | Val Loss: 1.1873 | Val Acc: 0.5684\n"
          ]
        },
        {
          "name": "stderr",
          "output_type": "stream",
          "text": [
            "100%|██████████| 1500/1500 [00:06<00:00, 231.20it/s]\n"
          ]
        },
        {
          "name": "stdout",
          "output_type": "stream",
          "text": [
            "Epoch 9/40 | Train Loss: 1.2544 | Train Acc: 0.5550 | Val Loss: 1.1167 | Val Acc: 0.6056\n"
          ]
        },
        {
          "name": "stderr",
          "output_type": "stream",
          "text": [
            "100%|██████████| 1500/1500 [00:06<00:00, 229.12it/s]\n"
          ]
        },
        {
          "name": "stdout",
          "output_type": "stream",
          "text": [
            "Epoch 10/40 | Train Loss: 1.1963 | Train Acc: 0.5751 | Val Loss: 1.0479 | Val Acc: 0.6392\n"
          ]
        },
        {
          "name": "stderr",
          "output_type": "stream",
          "text": [
            "100%|██████████| 1500/1500 [00:06<00:00, 231.60it/s]\n"
          ]
        },
        {
          "name": "stdout",
          "output_type": "stream",
          "text": [
            "Epoch 11/40 | Train Loss: 1.1449 | Train Acc: 0.5967 | Val Loss: 1.0161 | Val Acc: 0.6428\n"
          ]
        },
        {
          "name": "stderr",
          "output_type": "stream",
          "text": [
            "100%|██████████| 1500/1500 [00:06<00:00, 229.97it/s]\n"
          ]
        },
        {
          "name": "stdout",
          "output_type": "stream",
          "text": [
            "Epoch 12/40 | Train Loss: 1.0980 | Train Acc: 0.6193 | Val Loss: 0.9592 | Val Acc: 0.6572\n"
          ]
        },
        {
          "name": "stderr",
          "output_type": "stream",
          "text": [
            "100%|██████████| 1500/1500 [00:06<00:00, 230.10it/s]\n"
          ]
        },
        {
          "name": "stdout",
          "output_type": "stream",
          "text": [
            "Epoch 13/40 | Train Loss: 1.0590 | Train Acc: 0.6335 | Val Loss: 0.9158 | Val Acc: 0.6796\n"
          ]
        },
        {
          "name": "stderr",
          "output_type": "stream",
          "text": [
            "100%|██████████| 1500/1500 [00:06<00:00, 228.40it/s]\n"
          ]
        },
        {
          "name": "stdout",
          "output_type": "stream",
          "text": [
            "Epoch 14/40 | Train Loss: 1.0235 | Train Acc: 0.6451 | Val Loss: 0.8664 | Val Acc: 0.6972\n"
          ]
        },
        {
          "name": "stderr",
          "output_type": "stream",
          "text": [
            "100%|██████████| 1500/1500 [00:06<00:00, 231.13it/s]\n"
          ]
        },
        {
          "name": "stdout",
          "output_type": "stream",
          "text": [
            "Epoch 15/40 | Train Loss: 0.9857 | Train Acc: 0.6586 | Val Loss: 0.8706 | Val Acc: 0.6958\n"
          ]
        },
        {
          "name": "stderr",
          "output_type": "stream",
          "text": [
            "100%|██████████| 1500/1500 [00:06<00:00, 227.68it/s]\n"
          ]
        },
        {
          "name": "stdout",
          "output_type": "stream",
          "text": [
            "Epoch 16/40 | Train Loss: 0.9650 | Train Acc: 0.6686 | Val Loss: 0.8265 | Val Acc: 0.7128\n"
          ]
        },
        {
          "name": "stderr",
          "output_type": "stream",
          "text": [
            "100%|██████████| 1500/1500 [00:06<00:00, 228.10it/s]\n"
          ]
        },
        {
          "name": "stdout",
          "output_type": "stream",
          "text": [
            "Epoch 17/40 | Train Loss: 0.9378 | Train Acc: 0.6798 | Val Loss: 0.8101 | Val Acc: 0.7218\n"
          ]
        },
        {
          "name": "stderr",
          "output_type": "stream",
          "text": [
            "100%|██████████| 1500/1500 [00:06<00:00, 231.34it/s]\n"
          ]
        },
        {
          "name": "stdout",
          "output_type": "stream",
          "text": [
            "Epoch 18/40 | Train Loss: 0.9158 | Train Acc: 0.6904 | Val Loss: 0.7659 | Val Acc: 0.7306\n"
          ]
        },
        {
          "name": "stderr",
          "output_type": "stream",
          "text": [
            "100%|██████████| 1500/1500 [00:06<00:00, 232.95it/s]\n"
          ]
        },
        {
          "name": "stdout",
          "output_type": "stream",
          "text": [
            "Epoch 19/40 | Train Loss: 0.8881 | Train Acc: 0.6971 | Val Loss: 0.7577 | Val Acc: 0.7324\n"
          ]
        },
        {
          "name": "stderr",
          "output_type": "stream",
          "text": [
            "100%|██████████| 1500/1500 [00:06<00:00, 229.33it/s]\n"
          ]
        },
        {
          "name": "stdout",
          "output_type": "stream",
          "text": [
            "Epoch 20/40 | Train Loss: 0.8738 | Train Acc: 0.7013 | Val Loss: 0.7513 | Val Acc: 0.7382\n"
          ]
        },
        {
          "name": "stderr",
          "output_type": "stream",
          "text": [
            "100%|██████████| 1500/1500 [00:06<00:00, 231.36it/s]\n"
          ]
        },
        {
          "name": "stdout",
          "output_type": "stream",
          "text": [
            "Epoch 21/40 | Train Loss: 0.8525 | Train Acc: 0.7115 | Val Loss: 0.7422 | Val Acc: 0.7350\n"
          ]
        },
        {
          "name": "stderr",
          "output_type": "stream",
          "text": [
            "100%|██████████| 1500/1500 [00:06<00:00, 233.44it/s]\n"
          ]
        },
        {
          "name": "stdout",
          "output_type": "stream",
          "text": [
            "Epoch 22/40 | Train Loss: 0.8366 | Train Acc: 0.7158 | Val Loss: 0.7141 | Val Acc: 0.7556\n"
          ]
        },
        {
          "name": "stderr",
          "output_type": "stream",
          "text": [
            "100%|██████████| 1500/1500 [00:06<00:00, 228.94it/s]\n"
          ]
        },
        {
          "name": "stdout",
          "output_type": "stream",
          "text": [
            "Epoch 23/40 | Train Loss: 0.8184 | Train Acc: 0.7228 | Val Loss: 0.7154 | Val Acc: 0.7514\n"
          ]
        },
        {
          "name": "stderr",
          "output_type": "stream",
          "text": [
            "100%|██████████| 1500/1500 [00:06<00:00, 230.25it/s]\n"
          ]
        },
        {
          "name": "stdout",
          "output_type": "stream",
          "text": [
            "Epoch 24/40 | Train Loss: 0.8054 | Train Acc: 0.7295 | Val Loss: 0.6909 | Val Acc: 0.7644\n"
          ]
        },
        {
          "name": "stderr",
          "output_type": "stream",
          "text": [
            "100%|██████████| 1500/1500 [00:06<00:00, 230.30it/s]\n"
          ]
        },
        {
          "name": "stdout",
          "output_type": "stream",
          "text": [
            "Epoch 25/40 | Train Loss: 0.7834 | Train Acc: 0.7371 | Val Loss: 0.6803 | Val Acc: 0.7630\n"
          ]
        },
        {
          "name": "stderr",
          "output_type": "stream",
          "text": [
            "100%|██████████| 1500/1500 [00:06<00:00, 232.11it/s]\n"
          ]
        },
        {
          "name": "stdout",
          "output_type": "stream",
          "text": [
            "Epoch 26/40 | Train Loss: 0.7724 | Train Acc: 0.7428 | Val Loss: 0.6677 | Val Acc: 0.7642\n"
          ]
        },
        {
          "name": "stderr",
          "output_type": "stream",
          "text": [
            "100%|██████████| 1500/1500 [00:06<00:00, 232.70it/s]\n"
          ]
        },
        {
          "name": "stdout",
          "output_type": "stream",
          "text": [
            "Epoch 27/40 | Train Loss: 0.7618 | Train Acc: 0.7429 | Val Loss: 0.6669 | Val Acc: 0.7574\n"
          ]
        },
        {
          "name": "stderr",
          "output_type": "stream",
          "text": [
            "100%|██████████| 1500/1500 [00:06<00:00, 230.94it/s]\n"
          ]
        },
        {
          "name": "stdout",
          "output_type": "stream",
          "text": [
            "Epoch 28/40 | Train Loss: 0.7477 | Train Acc: 0.7487 | Val Loss: 0.6511 | Val Acc: 0.7772\n"
          ]
        },
        {
          "name": "stderr",
          "output_type": "stream",
          "text": [
            "100%|██████████| 1500/1500 [00:06<00:00, 230.39it/s]\n"
          ]
        },
        {
          "name": "stdout",
          "output_type": "stream",
          "text": [
            "Epoch 29/40 | Train Loss: 0.7441 | Train Acc: 0.7525 | Val Loss: 0.6350 | Val Acc: 0.7758\n"
          ]
        },
        {
          "name": "stderr",
          "output_type": "stream",
          "text": [
            "100%|██████████| 1500/1500 [00:06<00:00, 230.43it/s]\n"
          ]
        },
        {
          "name": "stdout",
          "output_type": "stream",
          "text": [
            "Epoch 30/40 | Train Loss: 0.7235 | Train Acc: 0.7574 | Val Loss: 0.6183 | Val Acc: 0.7868\n"
          ]
        },
        {
          "name": "stderr",
          "output_type": "stream",
          "text": [
            "100%|██████████| 1500/1500 [00:06<00:00, 230.44it/s]\n"
          ]
        },
        {
          "name": "stdout",
          "output_type": "stream",
          "text": [
            "Epoch 31/40 | Train Loss: 0.7114 | Train Acc: 0.7629 | Val Loss: 0.6268 | Val Acc: 0.7784\n"
          ]
        },
        {
          "name": "stderr",
          "output_type": "stream",
          "text": [
            "100%|██████████| 1500/1500 [00:06<00:00, 231.31it/s]\n"
          ]
        },
        {
          "name": "stdout",
          "output_type": "stream",
          "text": [
            "Epoch 32/40 | Train Loss: 0.7033 | Train Acc: 0.7634 | Val Loss: 0.6164 | Val Acc: 0.7838\n"
          ]
        },
        {
          "name": "stderr",
          "output_type": "stream",
          "text": [
            "100%|██████████| 1500/1500 [00:06<00:00, 231.43it/s]\n"
          ]
        },
        {
          "name": "stdout",
          "output_type": "stream",
          "text": [
            "Epoch 33/40 | Train Loss: 0.6946 | Train Acc: 0.7692 | Val Loss: 0.6216 | Val Acc: 0.7814\n"
          ]
        },
        {
          "name": "stderr",
          "output_type": "stream",
          "text": [
            "100%|██████████| 1500/1500 [00:06<00:00, 232.15it/s]\n"
          ]
        },
        {
          "name": "stdout",
          "output_type": "stream",
          "text": [
            "Epoch 34/40 | Train Loss: 0.6826 | Train Acc: 0.7724 | Val Loss: 0.6142 | Val Acc: 0.7872\n"
          ]
        },
        {
          "name": "stderr",
          "output_type": "stream",
          "text": [
            "100%|██████████| 1500/1500 [00:06<00:00, 229.87it/s]\n"
          ]
        },
        {
          "name": "stdout",
          "output_type": "stream",
          "text": [
            "Epoch 35/40 | Train Loss: 0.6653 | Train Acc: 0.7804 | Val Loss: 0.5864 | Val Acc: 0.7986\n"
          ]
        },
        {
          "name": "stderr",
          "output_type": "stream",
          "text": [
            "100%|██████████| 1500/1500 [00:06<00:00, 230.97it/s]\n"
          ]
        },
        {
          "name": "stdout",
          "output_type": "stream",
          "text": [
            "Epoch 36/40 | Train Loss: 0.6649 | Train Acc: 0.7793 | Val Loss: 0.5897 | Val Acc: 0.7916\n"
          ]
        },
        {
          "name": "stderr",
          "output_type": "stream",
          "text": [
            "100%|██████████| 1500/1500 [00:06<00:00, 231.80it/s]\n"
          ]
        },
        {
          "name": "stdout",
          "output_type": "stream",
          "text": [
            "Epoch 37/40 | Train Loss: 0.6543 | Train Acc: 0.7828 | Val Loss: 0.5773 | Val Acc: 0.7972\n"
          ]
        },
        {
          "name": "stderr",
          "output_type": "stream",
          "text": [
            "100%|██████████| 1500/1500 [00:06<00:00, 230.80it/s]\n"
          ]
        },
        {
          "name": "stdout",
          "output_type": "stream",
          "text": [
            "Epoch 38/40 | Train Loss: 0.6504 | Train Acc: 0.7821 | Val Loss: 0.5745 | Val Acc: 0.7966\n"
          ]
        },
        {
          "name": "stderr",
          "output_type": "stream",
          "text": [
            "100%|██████████| 1500/1500 [00:06<00:00, 230.98it/s]\n"
          ]
        },
        {
          "name": "stdout",
          "output_type": "stream",
          "text": [
            "Epoch 39/40 | Train Loss: 0.6358 | Train Acc: 0.7872 | Val Loss: 0.5630 | Val Acc: 0.8076\n"
          ]
        },
        {
          "name": "stderr",
          "output_type": "stream",
          "text": [
            "100%|██████████| 1500/1500 [00:06<00:00, 230.83it/s]\n"
          ]
        },
        {
          "name": "stdout",
          "output_type": "stream",
          "text": [
            "Epoch 40/40 | Train Loss: 0.6310 | Train Acc: 0.7894 | Val Loss: 0.5647 | Val Acc: 0.8050\n"
          ]
        }
      ],
      "source": [
        "# 1. Confirm whether the CUDA is available or not.\n",
        "device = torch.device(\"cuda\" if torch.cuda.is_available() else \"cpu\")\n",
        "print(\"Using device\", device)\n",
        "\n",
        "# 2. Encapsulate your Convolutional Neural Network (CNN) model within a class.\n",
        "# This class should include a constructor function __init__(...) and a forward(...) function that is used to carry out forward propagation.\n",
        "class CNN(nn.Module):\n",
        "    def __init__(self):\n",
        "        super().__init__()\n",
        "        # 3: input channels 64: number of filters 3:kernel size; output_size = 64x30x30\n",
        "        self.conv1 = nn.Conv2d(3, 32, kernel_size=3, stride=1, padding=1)\n",
        "        self.conv1_after = nn.Conv2d(\n",
        "            32, 81, kernel_size=3, stride=1, padding=1)\n",
        "        # 3: kernel size (square); output_size_1 = 6x14x14; output_size_2 = 12x5x5\n",
        "        self.maxpool = nn.MaxPool2d(kernel_size=2, stride=2)\n",
        "        self.conv3 = nn.Conv2d(81, 256, kernel_size=3, stride=1, padding=1)\n",
        "        self.relu = nn.ReLU()\n",
        "        self.dropout1 = nn.Dropout(p=0.2)\n",
        "        self.dropout2 = nn.Dropout(p=0.3)\n",
        "        self.dropout3 = nn.Dropout(p=0.4)\n",
        "        self.dropout4 = nn.Dropout(p=0.5)\n",
        "        self.linear1 = nn.Linear(8 * 8 * 256, 8 * 8 * 8)\n",
        "        self.linear2 = nn.Linear(8 * 8 * 8, 8 * 8)\n",
        "        self.linear3 = nn.Linear(8 * 8, 10)\n",
        "\n",
        "    def forward(self, x):\n",
        "        x = self.relu(self.conv1_after(self.relu(self.conv1(x))))\n",
        "        x = self.maxpool(x)\n",
        "        x = self.dropout1(x)\n",
        "        x = self.relu(self.conv3(x))\n",
        "        x = self.maxpool(x)\n",
        "        x = self.dropout2(x)\n",
        "        x = x.view(-1, 256 * 8 * 8)\n",
        "        x = self.relu(self.linear1(x))\n",
        "        x = self.dropout3(x)\n",
        "        x = self.relu(self.linear2(x))\n",
        "        x = self.dropout4(x)\n",
        "        x = self.linear3(x)\n",
        "        return x\n",
        "\n",
        "\n",
        "# 3. Initialize your model\n",
        "model = CNN().to(device)\n",
        "\n",
        "# 4. Define the Training Parameters like epochs, batch_size, learning_rate, optimizer, criterion_loss, etc.\n",
        "epochs = 40\n",
        "batch_size = 30\n",
        "learning_rate = 0.001\n",
        "optimizer = torch.optim.SGD(model.parameters(), lr=learning_rate, momentum=0.9)\n",
        "scheduler = torch.optim.lr_scheduler.ExponentialLR(optimizer, gamma=0.9)\n",
        "criterion = torch.nn.CrossEntropyLoss()\n",
        "\n",
        "# 5. Put the training and testing data into a DataLoader\n",
        "# you can use torch.utils.data.DataLoader() to complete this step.\n",
        "train_loader = torch.utils.data.DataLoader(\n",
        "    train_data, batch_size=batch_size, shuffle=True)\n",
        "validation_loader = torch.utils.data.DataLoader(\n",
        "    valid_data, batch_size=batch_size, shuffle=True)\n",
        "\n",
        "# 6. Training\n",
        "# During the training process, make sure to add the training accuracy, validation accuracy, training loss, and validation loss to the list below.\n",
        "# This will allow you to visualize these metrics and assess whether the model is overfitting.\n",
        "train_acc = []\n",
        "valid_acc = []\n",
        "train_loss = []\n",
        "valid_loss = []\n",
        "\n",
        "model.train()  # Put model in training mode\n",
        "for epoch in range(epochs):\n",
        "    training_losses = []\n",
        "    train_correct = 0\n",
        "    ProgressBar = tqdm(train_loader)\n",
        "    for images, labels in ProgressBar:\n",
        "        images = images.to(device)\n",
        "        labels = labels.to(device)\n",
        "        optimizer.zero_grad()\n",
        "        pred = model(images)\n",
        "        loss = criterion(pred, labels)\n",
        "        loss.backward()\n",
        "        optimizer.step()\n",
        "        training_losses.append(loss.item())\n",
        "        train_correct += torch.sum(torch.argmax(pred, dim=1) == labels).item()\n",
        "    train_accuracy = train_correct / len(train_data)\n",
        "    train_acc.append(train_accuracy)\n",
        "    train_loss.append(np.mean(training_losses))\n",
        "\n",
        "    val_losses = []\n",
        "    num_correct = 0\n",
        "    with torch.no_grad():\n",
        "        model.eval()  # Put model in eval mode\n",
        "        for images, labels in validation_loader:\n",
        "            images = images.to(device)\n",
        "            labels = labels.to(device)\n",
        "            pred_val = model(images)\n",
        "            loss_val = criterion(pred_val, labels)\n",
        "            val_losses.append(loss_val.item())\n",
        "            _, predicted = torch.max(pred_val.data, 1)\n",
        "            num_correct += (predicted == labels).sum().item()\n",
        "        model.train()  # Put model back in train mode\n",
        "    valid_accuracy = num_correct / len(valid_data)\n",
        "    valid_acc.append(valid_accuracy)\n",
        "    valid_loss.append(np.mean(val_losses))\n",
        "\n",
        "    print(f\"Epoch {epoch + 1}/{epochs} | Train Loss: {np.mean(training_losses):.4f} | Train Acc: {train_accuracy:.4f} | Val Loss: {np.mean(val_losses):.4f} | Val Acc: {valid_accuracy:.4f}\")"
      ]
    },
    {
      "cell_type": "code",
      "execution_count": 24,
      "id": "IT4KBCESkytI",
      "metadata": {
        "colab": {
          "base_uri": "https://localhost:8080/",
          "height": 487
        },
        "id": "IT4KBCESkytI",
        "outputId": "3abe148d-8c9c-442f-a3e9-e38a229b85d4"
      },
      "outputs": [
        {
          "data": {
            "image/png": "[encoded data removed]",
            "text/plain": [
              "<Figure size 500x500 with 1 Axes>"
            ]
          },
          "metadata": {},
          "output_type": "display_data"
        }
      ],
      "source": [
        "# Plot Your Training and Validation loss in one picture here.\n",
        "plt.figure(figsize=(5, 5))\n",
        "plt.plot(train_loss, label='Training_Loss')\n",
        "plt.plot(valid_loss, label='Validation_Loss')\n",
        "plt.xlabel('Epoch')\n",
        "plt.ylabel('Loss')\n",
        "plt.title(\"Loss with epoches\")\n",
        "plt.legend()\n",
        "plt.show()"
      ]
    },
    {
      "cell_type": "code",
      "execution_count": 25,
      "id": "5y5aGpr8kzL_",
      "metadata": {
        "colab": {
          "base_uri": "https://localhost:8080/",
          "height": 487
        },
        "id": "5y5aGpr8kzL_",
        "outputId": "b9d3275d-40cc-434d-8462-d362af030160"
      },
      "outputs": [
        {
          "data": {
            "image/png": "[encoded data removed]",
            "text/plain": [
              "<Figure size 500x500 with 1 Axes>"
            ]
          },
          "metadata": {},
          "output_type": "display_data"
        }
      ],
      "source": [
        "# Plot Your Training and Validation accuracy in one picture here.\n",
        "plt.figure(figsize=(5, 5))\n",
        "plt.plot(train_acc, label='Training_Acc')\n",
        "plt.plot(valid_acc, label='Validation_Acc')\n",
        "plt.xlabel('Epoch')\n",
        "plt.ylabel('Accuracy')\n",
        "plt.title(\"Accuracy with epoches\")\n",
        "plt.legend()\n",
        "plt.show()"
      ]
    },
    {
      "cell_type": "markdown",
      "id": "RFXmDojUyQas",
      "metadata": {
        "id": "RFXmDojUyQas"
      },
      "source": [
        "## Testing"
      ]
    },
    {
      "cell_type": "code",
      "execution_count": 26,
      "id": "Q7hkIdQqyS59",
      "metadata": {
        "id": "Q7hkIdQqyS59"
      },
      "outputs": [],
      "source": [
        "import torch\n",
        "from torch.utils.data import DataLoader\n",
        "from sklearn.metrics import classification_report\n",
        "import numpy as np\n",
        "\n",
        "def evaluate_model(model, test_data, device='cuda', batch_size=128):\n",
        "    test_loader = DataLoader(test_data, batch_size=batch_size, shuffle=False)\n",
        "    model.eval()\n",
        "    model.to(device)\n",
        "    correct = 0\n",
        "    total = 0\n",
        "    all_preds = []\n",
        "    all_labels = []\n",
        "    with torch.no_grad():\n",
        "        for images, labels in test_loader:\n",
        "            images, labels = images.to(device), labels.to(device)\n",
        "            outputs = model(images)\n",
        "            _, predicted = torch.max(outputs.data, 1)\n",
        "            total += labels.size(0)\n",
        "            correct += (predicted == labels).sum().item()\n",
        "            all_preds.extend(predicted.cpu().numpy())\n",
        "            all_labels.extend(labels.cpu().numpy())\n",
        "    accuracy = 100 * correct / total\n",
        "\n",
        "    print(f'Test Accuracy: {accuracy:.2f}%')\n",
        "    print(f'Correct/Total: {correct}/{total}')\n",
        "    print('\\nClassification Report:')\n",
        "    print(classification_report(all_labels, all_preds, target_names=test_data.classes))"
      ]
    },
    {
      "cell_type": "code",
      "execution_count": 27,
      "id": "7s4COfUcy7S6",
      "metadata": {
        "colab": {
          "base_uri": "https://localhost:8080/"
        },
        "id": "7s4COfUcy7S6",
        "outputId": "ae1b2f9d-325e-4214-f7eb-f45aaa0bbdc8"
      },
      "outputs": [
        {
          "name": "stdout",
          "output_type": "stream",
          "text": [
            "Test Accuracy: 82.23%\n",
            "Correct/Total: 8223/10000\n",
            "\n",
            "Classification Report:\n",
            "              precision    recall  f1-score   support\n",
            "\n",
            "    airplane       0.81      0.87      0.84      1000\n",
            "  automobile       0.90      0.94      0.92      1000\n",
            "        bird       0.76      0.72      0.74      1000\n",
            "         cat       0.63      0.69      0.66      1000\n",
            "        deer       0.81      0.80      0.81      1000\n",
            "         dog       0.85      0.62      0.72      1000\n",
            "        frog       0.83      0.89      0.86      1000\n",
            "       horse       0.84      0.89      0.86      1000\n",
            "        ship       0.87      0.93      0.90      1000\n",
            "       truck       0.93      0.88      0.90      1000\n",
            "\n",
            "    accuracy                           0.82     10000\n",
            "   macro avg       0.82      0.82      0.82     10000\n",
            "weighted avg       0.82      0.82      0.82     10000\n",
            "\n"
          ]
        }
      ],
      "source": [
        "evaluate_model(model, test_data)"
      ]
    }
  ],
  "metadata": {
    "accelerator": "GPU",
    "colab": {
      "gpuType": "T4",
      "provenance": []
    },
    "kernelspec": {
      "display_name": "CS182",
      "language": "python",
      "name": "python3"
    },
    "language_info": {
      "codemirror_mode": {
        "name": "ipython",
        "version": 3
      },
      "file_extension": ".py",
      "mimetype": "text/x-python",
      "name": "python",
      "nbconvert_exporter": "python",
      "pygments_lexer": "ipython3",
      "version": "3.10.17"
    }
  },
  "nbformat": 4,
  "nbformat_minor": 5
}
